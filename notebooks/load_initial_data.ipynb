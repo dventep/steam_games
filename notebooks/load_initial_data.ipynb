{
 "cells": [
  {
   "cell_type": "markdown",
   "metadata": {},
   "source": [
    "# Load initial data to SQL\n",
    "\n",
    "In this file, we perform the proccess of reading and loading from a paquet file obtained by api of Hugging Face about all games available on the Steam platform using Python Kernel in a venv.\n",
    "\n",
    "In this process, the following will be carried out:\n",
    "\n",
    "1. Connection with the **steam_database** database hosted in a **Local server**. If the database doesn't exists, it will be created.\n",
    "\n",
    "2. Creation of the database's structure if the database doesn't exists. As the proccess is running, the tables will be reset if they already exists.\n",
    "\n",
    "3. Reading and exploration of paquet file of Hugging Face to knows its structure and data.\n",
    "\n",
    "4. Loading of data to **raw_games** table in **steam_database** database."
   ]
  },
  {
   "cell_type": "markdown",
   "metadata": {},
   "source": [
    "---\n",
    "# Proccess"
   ]
  },
  {
   "cell_type": "markdown",
   "metadata": {},
   "source": [
    "## 1. Environment Setup"
   ]
  },
  {
   "cell_type": "markdown",
   "metadata": {},
   "source": [
    "### Installing missing libraries"
   ]
  },
  {
   "cell_type": "code",
   "execution_count": null,
   "metadata": {},
   "outputs": [],
   "source": [
    "pip install -r ../code/config/requirements.txt"
   ]
  },
  {
   "cell_type": "markdown",
   "metadata": {},
   "source": [
    "### Import modules helper:"
   ]
  },
  {
   "cell_type": "code",
   "execution_count": 8,
   "metadata": {},
   "outputs": [],
   "source": [
    "import importlib.util\n",
    "\n",
    "def import_module_from_path(module_name, path):\n",
    "    spec = importlib.util.spec_from_file_location(module_name, path)\n",
    "    module = importlib.util.module_from_spec(spec)\n",
    "    spec.loader.exec_module(module)\n",
    "    return module"
   ]
  },
  {
   "cell_type": "markdown",
   "metadata": {},
   "source": [
    "### Import Utils & DB Connection"
   ]
  },
  {
   "cell_type": "code",
   "execution_count": 26,
   "metadata": {},
   "outputs": [],
   "source": [
    "connect_database = import_module_from_path(\"connect_database\", \"../code/utils/connect_database.py\")"
   ]
  },
  {
   "cell_type": "markdown",
   "metadata": {},
   "source": [
    "### Loading libraries"
   ]
  },
  {
   "cell_type": "code",
   "execution_count": 10,
   "metadata": {},
   "outputs": [],
   "source": [
    "import pandas as pd"
   ]
  },
  {
   "cell_type": "markdown",
   "metadata": {},
   "source": [
    "## 2. Data Preparation\n",
    "\n",
    "### Let's know the dataset"
   ]
  },
  {
   "cell_type": "markdown",
   "metadata": {},
   "source": [
    "Before reading the data, we downloaded the repository and it presented us with a README that brings us the column metadata.\n",
    "\n",
    "Information about parquet file to load:"
   ]
  },
  {
   "cell_type": "code",
   "execution_count": 11,
   "metadata": {},
   "outputs": [],
   "source": [
    "location_file = 'https://huggingface.co/api/datasets/FronkonGames/steam-games-dataset/parquet/default/train/0.parquet'\n",
    "raw_table_database = 'raw_games'\n",
    "columns_to_delete = []"
   ]
  },
  {
   "cell_type": "markdown",
   "metadata": {},
   "source": [
    "Check the data to know the structure and lengths of the data for the **raw_games** table that will store the raw data."
   ]
  },
  {
   "cell_type": "code",
   "execution_count": 12,
   "metadata": {},
   "outputs": [],
   "source": [
    "raw_games_dataframe = pd.read_parquet(location_file)"
   ]
  },
  {
   "cell_type": "markdown",
   "metadata": {},
   "source": [
    "Let's see the columns to verify its names and if it's necessary, rename them to load in the **steam_database** database."
   ]
  },
  {
   "cell_type": "code",
   "execution_count": 13,
   "metadata": {},
   "outputs": [
    {
     "data": {
      "text/plain": [
       "(83560, 39)"
      ]
     },
     "execution_count": 13,
     "metadata": {},
     "output_type": "execute_result"
    }
   ],
   "source": [
    "raw_games_dataframe.shape"
   ]
  },
  {
   "cell_type": "code",
   "execution_count": 14,
   "metadata": {},
   "outputs": [
    {
     "data": {
      "text/plain": [
       "Index(['AppID', 'Name', 'Release date', 'Estimated owners', 'Peak CCU',\n",
       "       'Required age', 'Price', 'DLC count', 'About the game',\n",
       "       'Supported languages', 'Full audio languages', 'Reviews',\n",
       "       'Header image', 'Website', 'Support url', 'Support email', 'Windows',\n",
       "       'Mac', 'Linux', 'Metacritic score', 'Metacritic url', 'User score',\n",
       "       'Positive', 'Negative', 'Score rank', 'Achievements', 'Recommendations',\n",
       "       'Notes', 'Average playtime forever', 'Average playtime two weeks',\n",
       "       'Median playtime forever', 'Median playtime two weeks', 'Developers',\n",
       "       'Publishers', 'Categories', 'Genres', 'Tags', 'Screenshots', 'Movies'],\n",
       "      dtype='object')"
      ]
     },
     "execution_count": 14,
     "metadata": {},
     "output_type": "execute_result"
    }
   ],
   "source": [
    "raw_games_dataframe.columns"
   ]
  },
  {
   "cell_type": "markdown",
   "metadata": {},
   "source": [
    "Let's rename columns to prepare the load for database."
   ]
  },
  {
   "cell_type": "code",
   "execution_count": 15,
   "metadata": {},
   "outputs": [],
   "source": [
    "names_file = ['AppID', 'name', 'release_date', 'estimated_owners', 'peak_ccu', 'required_age', 'price', 'downloable_content_count', 'about_the_game','supported_languages', 'full_audio_languages', 'reviews', 'header_image', 'website', 'support_url', 'support_email', 'windows', 'mac', 'linux', 'metacritic_score', 'metacritic_url', 'user_score', 'positive', 'negative', 'score_rank', 'achievements', 'recommendations', 'notes', 'average_playtime_forever_minute', 'average_playtime_two_weeks_minute', 'median_playtime_forever_minute', 'median_playtime_two_weeks_minute', 'developers', 'publishers', 'categories', 'genres', 'tags', 'screenshots', 'movies']\n",
    "raw_games_dataframe.columns = names_file"
   ]
  },
  {
   "cell_type": "markdown",
   "metadata": {},
   "source": [
    "AppID is the unique identifier for each. We will see the range of identifiers to use them as **id** in the table or we need to create them:"
   ]
  },
  {
   "cell_type": "code",
   "execution_count": 16,
   "metadata": {},
   "outputs": [
    {
     "data": {
      "text/plain": [
       "83560"
      ]
     },
     "execution_count": 16,
     "metadata": {},
     "output_type": "execute_result"
    }
   ],
   "source": [
    "len(raw_games_dataframe['AppID'].unique())"
   ]
  },
  {
   "cell_type": "code",
   "execution_count": 17,
   "metadata": {},
   "outputs": [
    {
     "data": {
      "text/plain": [
       "'Min: 10 - Max: 2719700'"
      ]
     },
     "execution_count": 17,
     "metadata": {},
     "output_type": "execute_result"
    }
   ],
   "source": [
    "\"Min: %s - Max: %s\" % (str(raw_games_dataframe['AppID'].min()), str(raw_games_dataframe['AppID'].max()))"
   ]
  },
  {
   "cell_type": "markdown",
   "metadata": {},
   "source": [
    "For 83.560 rows, an identifier number 2.719.700 is very great, so we will use the indexes provided by **Pandas** to assign the identifiers and the **AppID** column will be marked for later deletion."
   ]
  },
  {
   "cell_type": "code",
   "execution_count": 18,
   "metadata": {},
   "outputs": [
    {
     "data": {
      "text/plain": [
       "Index(['id', 'AppID', 'name', 'release_date', 'estimated_owners', 'peak_ccu',\n",
       "       'required_age', 'price', 'downloable_content_count', 'about_the_game',\n",
       "       'supported_languages', 'full_audio_languages', 'reviews',\n",
       "       'header_image', 'website', 'support_url', 'support_email', 'windows',\n",
       "       'mac', 'linux', 'metacritic_score', 'metacritic_url', 'user_score',\n",
       "       'positive', 'negative', 'score_rank', 'achievements', 'recommendations',\n",
       "       'notes', 'average_playtime_forever_minute',\n",
       "       'average_playtime_two_weeks_minute', 'median_playtime_forever_minute',\n",
       "       'median_playtime_two_weeks_minute', 'developers', 'publishers',\n",
       "       'categories', 'genres', 'tags', 'screenshots', 'movies'],\n",
       "      dtype='object')"
      ]
     },
     "execution_count": 18,
     "metadata": {},
     "output_type": "execute_result"
    }
   ],
   "source": [
    "raw_games_dataframe.index += 1\n",
    "raw_games_dataframe.reset_index(inplace=True)\n",
    "raw_games_dataframe.rename(columns={'index': 'id'}, inplace=True)\n",
    "columns_to_delete.append('AppID')\n",
    "raw_games_dataframe.columns"
   ]
  },
  {
   "cell_type": "markdown",
   "metadata": {},
   "source": [
    "Let's prepare the lengths for each column if it's char"
   ]
  },
  {
   "cell_type": "code",
   "execution_count": 19,
   "metadata": {},
   "outputs": [],
   "source": [
    "max_lengths = raw_games_dataframe.apply(lambda col: \"{} - {}\" .format(col.dtypes, col.astype(str).str.len().max()))"
   ]
  },
  {
   "cell_type": "code",
   "execution_count": 20,
   "metadata": {},
   "outputs": [
    {
     "data": {
      "text/plain": [
       "id                                        int64 - 5\n",
       "AppID                                     int64 - 7\n",
       "name                                   object - 184\n",
       "release_date                            object - 12\n",
       "estimated_owners                        object - 21\n",
       "peak_ccu                                  int64 - 6\n",
       "required_age                              int64 - 2\n",
       "price                                   float64 - 6\n",
       "downloable_content_count                  int64 - 4\n",
       "about_the_game                       object - 94466\n",
       "supported_languages                   object - 1216\n",
       "full_audio_languages                  object - 1216\n",
       "reviews                               object - 2911\n",
       "header_image                            object - 90\n",
       "website                                object - 206\n",
       "support_url                            object - 349\n",
       "support_email                          object - 247\n",
       "windows                                    bool - 5\n",
       "mac                                        bool - 5\n",
       "linux                                      bool - 5\n",
       "metacritic_score                          int64 - 2\n",
       "metacritic_url                         object - 142\n",
       "user_score                                int64 - 3\n",
       "positive                                  int64 - 7\n",
       "negative                                  int64 - 6\n",
       "score_rank                              float64 - 5\n",
       "achievements                              int64 - 4\n",
       "recommendations                           int64 - 7\n",
       "notes                                 object - 2028\n",
       "average_playtime_forever_minute           int64 - 6\n",
       "average_playtime_two_weeks_minute         int64 - 5\n",
       "median_playtime_forever_minute            int64 - 6\n",
       "median_playtime_two_weeks_minute          int64 - 5\n",
       "developers                             object - 584\n",
       "publishers                             object - 164\n",
       "categories                             object - 371\n",
       "genres                                 object - 236\n",
       "tags                                   object - 288\n",
       "screenshots                          object - 22691\n",
       "movies                                object - 3687\n",
       "dtype: object"
      ]
     },
     "execution_count": 20,
     "metadata": {},
     "output_type": "execute_result"
    }
   ],
   "source": [
    "max_lengths"
   ]
  },
  {
   "cell_type": "code",
   "execution_count": 21,
   "metadata": {},
   "outputs": [
    {
     "data": {
      "text/html": [
       "<div>\n",
       "<style scoped>\n",
       "    .dataframe tbody tr th:only-of-type {\n",
       "        vertical-align: middle;\n",
       "    }\n",
       "\n",
       "    .dataframe tbody tr th {\n",
       "        vertical-align: top;\n",
       "    }\n",
       "\n",
       "    .dataframe thead th {\n",
       "        text-align: right;\n",
       "    }\n",
       "</style>\n",
       "<table border=\"1\" class=\"dataframe\">\n",
       "  <thead>\n",
       "    <tr style=\"text-align: right;\">\n",
       "      <th></th>\n",
       "      <th>id</th>\n",
       "      <th>AppID</th>\n",
       "      <th>name</th>\n",
       "      <th>release_date</th>\n",
       "      <th>estimated_owners</th>\n",
       "      <th>peak_ccu</th>\n",
       "      <th>required_age</th>\n",
       "      <th>price</th>\n",
       "      <th>downloable_content_count</th>\n",
       "      <th>about_the_game</th>\n",
       "      <th>supported_languages</th>\n",
       "      <th>full_audio_languages</th>\n",
       "      <th>reviews</th>\n",
       "      <th>header_image</th>\n",
       "      <th>website</th>\n",
       "      <th>support_url</th>\n",
       "      <th>support_email</th>\n",
       "      <th>windows</th>\n",
       "      <th>mac</th>\n",
       "      <th>linux</th>\n",
       "      <th>metacritic_score</th>\n",
       "      <th>metacritic_url</th>\n",
       "      <th>user_score</th>\n",
       "      <th>positive</th>\n",
       "      <th>negative</th>\n",
       "      <th>score_rank</th>\n",
       "      <th>achievements</th>\n",
       "      <th>recommendations</th>\n",
       "      <th>notes</th>\n",
       "      <th>average_playtime_forever_minute</th>\n",
       "      <th>average_playtime_two_weeks_minute</th>\n",
       "      <th>median_playtime_forever_minute</th>\n",
       "      <th>median_playtime_two_weeks_minute</th>\n",
       "      <th>developers</th>\n",
       "      <th>publishers</th>\n",
       "      <th>categories</th>\n",
       "      <th>genres</th>\n",
       "      <th>tags</th>\n",
       "      <th>screenshots</th>\n",
       "      <th>movies</th>\n",
       "    </tr>\n",
       "  </thead>\n",
       "  <tbody>\n",
       "    <tr>\n",
       "      <th>0</th>\n",
       "      <td>1</td>\n",
       "      <td>20200</td>\n",
       "      <td>Galactic Bowling</td>\n",
       "      <td>Oct 21, 2008</td>\n",
       "      <td>0 - 20000</td>\n",
       "      <td>0</td>\n",
       "      <td>0</td>\n",
       "      <td>19.99</td>\n",
       "      <td>0</td>\n",
       "      <td>Galactic Bowling is an exaggerated and stylize...</td>\n",
       "      <td>['English']</td>\n",
       "      <td>[]</td>\n",
       "      <td>None</td>\n",
       "      <td>https://cdn.akamai.steamstatic.com/steam/apps/...</td>\n",
       "      <td>http://www.galacticbowling.net</td>\n",
       "      <td>None</td>\n",
       "      <td>None</td>\n",
       "      <td>True</td>\n",
       "      <td>False</td>\n",
       "      <td>False</td>\n",
       "      <td>0</td>\n",
       "      <td>None</td>\n",
       "      <td>0</td>\n",
       "      <td>6</td>\n",
       "      <td>11</td>\n",
       "      <td>NaN</td>\n",
       "      <td>30</td>\n",
       "      <td>0</td>\n",
       "      <td>None</td>\n",
       "      <td>0</td>\n",
       "      <td>0</td>\n",
       "      <td>0</td>\n",
       "      <td>0</td>\n",
       "      <td>Perpetual FX Creative</td>\n",
       "      <td>Perpetual FX Creative</td>\n",
       "      <td>Single-player,Multi-player,Steam Achievements,...</td>\n",
       "      <td>Casual,Indie,Sports</td>\n",
       "      <td>Indie,Casual,Sports,Bowling</td>\n",
       "      <td>https://cdn.akamai.steamstatic.com/steam/apps/...</td>\n",
       "      <td>http://cdn.akamai.steamstatic.com/steam/apps/2...</td>\n",
       "    </tr>\n",
       "    <tr>\n",
       "      <th>1</th>\n",
       "      <td>2</td>\n",
       "      <td>655370</td>\n",
       "      <td>Train Bandit</td>\n",
       "      <td>Oct 12, 2017</td>\n",
       "      <td>0 - 20000</td>\n",
       "      <td>0</td>\n",
       "      <td>0</td>\n",
       "      <td>0.99</td>\n",
       "      <td>0</td>\n",
       "      <td>THE LAW!! Looks to be a showdown atop a train....</td>\n",
       "      <td>['English', 'French', 'Italian', 'German', 'Sp...</td>\n",
       "      <td>[]</td>\n",
       "      <td>None</td>\n",
       "      <td>https://cdn.akamai.steamstatic.com/steam/apps/...</td>\n",
       "      <td>http://trainbandit.com</td>\n",
       "      <td>None</td>\n",
       "      <td>support@rustymoyher.com</td>\n",
       "      <td>True</td>\n",
       "      <td>True</td>\n",
       "      <td>False</td>\n",
       "      <td>0</td>\n",
       "      <td>None</td>\n",
       "      <td>0</td>\n",
       "      <td>53</td>\n",
       "      <td>5</td>\n",
       "      <td>NaN</td>\n",
       "      <td>12</td>\n",
       "      <td>0</td>\n",
       "      <td>None</td>\n",
       "      <td>0</td>\n",
       "      <td>0</td>\n",
       "      <td>0</td>\n",
       "      <td>0</td>\n",
       "      <td>Rusty Moyher</td>\n",
       "      <td>Wild Rooster</td>\n",
       "      <td>Single-player,Steam Achievements,Full controll...</td>\n",
       "      <td>Action,Indie</td>\n",
       "      <td>Indie,Action,Pixel Graphics,2D,Retro,Arcade,Sc...</td>\n",
       "      <td>https://cdn.akamai.steamstatic.com/steam/apps/...</td>\n",
       "      <td>http://cdn.akamai.steamstatic.com/steam/apps/2...</td>\n",
       "    </tr>\n",
       "    <tr>\n",
       "      <th>2</th>\n",
       "      <td>3</td>\n",
       "      <td>1732930</td>\n",
       "      <td>Jolt Project</td>\n",
       "      <td>Nov 17, 2021</td>\n",
       "      <td>0 - 20000</td>\n",
       "      <td>0</td>\n",
       "      <td>0</td>\n",
       "      <td>4.99</td>\n",
       "      <td>0</td>\n",
       "      <td>Jolt Project: The army now has a new robotics ...</td>\n",
       "      <td>['English', 'Portuguese - Brazil']</td>\n",
       "      <td>[]</td>\n",
       "      <td>None</td>\n",
       "      <td>https://cdn.akamai.steamstatic.com/steam/apps/...</td>\n",
       "      <td>None</td>\n",
       "      <td>None</td>\n",
       "      <td>ramoncampiaof31@gmail.com</td>\n",
       "      <td>True</td>\n",
       "      <td>False</td>\n",
       "      <td>False</td>\n",
       "      <td>0</td>\n",
       "      <td>None</td>\n",
       "      <td>0</td>\n",
       "      <td>0</td>\n",
       "      <td>0</td>\n",
       "      <td>NaN</td>\n",
       "      <td>0</td>\n",
       "      <td>0</td>\n",
       "      <td>None</td>\n",
       "      <td>0</td>\n",
       "      <td>0</td>\n",
       "      <td>0</td>\n",
       "      <td>0</td>\n",
       "      <td>Campião Games</td>\n",
       "      <td>Campião Games</td>\n",
       "      <td>Single-player</td>\n",
       "      <td>Action,Adventure,Indie,Strategy</td>\n",
       "      <td>None</td>\n",
       "      <td>https://cdn.akamai.steamstatic.com/steam/apps/...</td>\n",
       "      <td>http://cdn.akamai.steamstatic.com/steam/apps/2...</td>\n",
       "    </tr>\n",
       "    <tr>\n",
       "      <th>3</th>\n",
       "      <td>4</td>\n",
       "      <td>1355720</td>\n",
       "      <td>Henosis™</td>\n",
       "      <td>Jul 23, 2020</td>\n",
       "      <td>0 - 20000</td>\n",
       "      <td>0</td>\n",
       "      <td>0</td>\n",
       "      <td>5.99</td>\n",
       "      <td>0</td>\n",
       "      <td>HENOSIS™ is a mysterious 2D Platform Puzzler w...</td>\n",
       "      <td>['English', 'French', 'Italian', 'German', 'Sp...</td>\n",
       "      <td>[]</td>\n",
       "      <td>None</td>\n",
       "      <td>https://cdn.akamai.steamstatic.com/steam/apps/...</td>\n",
       "      <td>https://henosisgame.com/</td>\n",
       "      <td>https://henosisgame.com/</td>\n",
       "      <td>info@henosisgame.com</td>\n",
       "      <td>True</td>\n",
       "      <td>True</td>\n",
       "      <td>True</td>\n",
       "      <td>0</td>\n",
       "      <td>None</td>\n",
       "      <td>0</td>\n",
       "      <td>3</td>\n",
       "      <td>0</td>\n",
       "      <td>NaN</td>\n",
       "      <td>0</td>\n",
       "      <td>0</td>\n",
       "      <td>None</td>\n",
       "      <td>0</td>\n",
       "      <td>0</td>\n",
       "      <td>0</td>\n",
       "      <td>0</td>\n",
       "      <td>Odd Critter Games</td>\n",
       "      <td>Odd Critter Games</td>\n",
       "      <td>Single-player,Full controller support</td>\n",
       "      <td>Adventure,Casual,Indie</td>\n",
       "      <td>2D Platformer,Atmospheric,Surreal,Mystery,Puzz...</td>\n",
       "      <td>https://cdn.akamai.steamstatic.com/steam/apps/...</td>\n",
       "      <td>http://cdn.akamai.steamstatic.com/steam/apps/2...</td>\n",
       "    </tr>\n",
       "    <tr>\n",
       "      <th>4</th>\n",
       "      <td>5</td>\n",
       "      <td>1139950</td>\n",
       "      <td>Two Weeks in Painland</td>\n",
       "      <td>Feb 3, 2020</td>\n",
       "      <td>0 - 20000</td>\n",
       "      <td>0</td>\n",
       "      <td>0</td>\n",
       "      <td>0.00</td>\n",
       "      <td>0</td>\n",
       "      <td>ABOUT THE GAME Play as a hacker who has arrang...</td>\n",
       "      <td>['English', 'Spanish - Spain']</td>\n",
       "      <td>[]</td>\n",
       "      <td>None</td>\n",
       "      <td>https://cdn.akamai.steamstatic.com/steam/apps/...</td>\n",
       "      <td>https://www.unusual-games.com/home/</td>\n",
       "      <td>https://www.unusual-games.com/contact/</td>\n",
       "      <td>welistentoyou@unusual-games.com</td>\n",
       "      <td>True</td>\n",
       "      <td>True</td>\n",
       "      <td>False</td>\n",
       "      <td>0</td>\n",
       "      <td>None</td>\n",
       "      <td>0</td>\n",
       "      <td>50</td>\n",
       "      <td>8</td>\n",
       "      <td>NaN</td>\n",
       "      <td>17</td>\n",
       "      <td>0</td>\n",
       "      <td>This Game may contain content not appropriate ...</td>\n",
       "      <td>0</td>\n",
       "      <td>0</td>\n",
       "      <td>0</td>\n",
       "      <td>0</td>\n",
       "      <td>Unusual Games</td>\n",
       "      <td>Unusual Games</td>\n",
       "      <td>Single-player,Steam Achievements</td>\n",
       "      <td>Adventure,Indie</td>\n",
       "      <td>Indie,Adventure,Nudity,Violent,Sexual Content,...</td>\n",
       "      <td>https://cdn.akamai.steamstatic.com/steam/apps/...</td>\n",
       "      <td>http://cdn.akamai.steamstatic.com/steam/apps/2...</td>\n",
       "    </tr>\n",
       "  </tbody>\n",
       "</table>\n",
       "</div>"
      ],
      "text/plain": [
       "   id    AppID                   name  release_date estimated_owners  \\\n",
       "0   1    20200       Galactic Bowling  Oct 21, 2008        0 - 20000   \n",
       "1   2   655370           Train Bandit  Oct 12, 2017        0 - 20000   \n",
       "2   3  1732930           Jolt Project  Nov 17, 2021        0 - 20000   \n",
       "3   4  1355720               Henosis™  Jul 23, 2020        0 - 20000   \n",
       "4   5  1139950  Two Weeks in Painland   Feb 3, 2020        0 - 20000   \n",
       "\n",
       "   peak_ccu  required_age  price  downloable_content_count  \\\n",
       "0         0             0  19.99                         0   \n",
       "1         0             0   0.99                         0   \n",
       "2         0             0   4.99                         0   \n",
       "3         0             0   5.99                         0   \n",
       "4         0             0   0.00                         0   \n",
       "\n",
       "                                      about_the_game  \\\n",
       "0  Galactic Bowling is an exaggerated and stylize...   \n",
       "1  THE LAW!! Looks to be a showdown atop a train....   \n",
       "2  Jolt Project: The army now has a new robotics ...   \n",
       "3  HENOSIS™ is a mysterious 2D Platform Puzzler w...   \n",
       "4  ABOUT THE GAME Play as a hacker who has arrang...   \n",
       "\n",
       "                                 supported_languages full_audio_languages  \\\n",
       "0                                        ['English']                   []   \n",
       "1  ['English', 'French', 'Italian', 'German', 'Sp...                   []   \n",
       "2                 ['English', 'Portuguese - Brazil']                   []   \n",
       "3  ['English', 'French', 'Italian', 'German', 'Sp...                   []   \n",
       "4                     ['English', 'Spanish - Spain']                   []   \n",
       "\n",
       "  reviews                                       header_image  \\\n",
       "0    None  https://cdn.akamai.steamstatic.com/steam/apps/...   \n",
       "1    None  https://cdn.akamai.steamstatic.com/steam/apps/...   \n",
       "2    None  https://cdn.akamai.steamstatic.com/steam/apps/...   \n",
       "3    None  https://cdn.akamai.steamstatic.com/steam/apps/...   \n",
       "4    None  https://cdn.akamai.steamstatic.com/steam/apps/...   \n",
       "\n",
       "                               website  \\\n",
       "0       http://www.galacticbowling.net   \n",
       "1               http://trainbandit.com   \n",
       "2                                 None   \n",
       "3             https://henosisgame.com/   \n",
       "4  https://www.unusual-games.com/home/   \n",
       "\n",
       "                              support_url                    support_email  \\\n",
       "0                                    None                             None   \n",
       "1                                    None          support@rustymoyher.com   \n",
       "2                                    None        ramoncampiaof31@gmail.com   \n",
       "3                https://henosisgame.com/             info@henosisgame.com   \n",
       "4  https://www.unusual-games.com/contact/  welistentoyou@unusual-games.com   \n",
       "\n",
       "   windows    mac  linux  metacritic_score metacritic_url  user_score  \\\n",
       "0     True  False  False                 0           None           0   \n",
       "1     True   True  False                 0           None           0   \n",
       "2     True  False  False                 0           None           0   \n",
       "3     True   True   True                 0           None           0   \n",
       "4     True   True  False                 0           None           0   \n",
       "\n",
       "   positive  negative  score_rank  achievements  recommendations  \\\n",
       "0         6        11         NaN            30                0   \n",
       "1        53         5         NaN            12                0   \n",
       "2         0         0         NaN             0                0   \n",
       "3         3         0         NaN             0                0   \n",
       "4        50         8         NaN            17                0   \n",
       "\n",
       "                                               notes  \\\n",
       "0                                               None   \n",
       "1                                               None   \n",
       "2                                               None   \n",
       "3                                               None   \n",
       "4  This Game may contain content not appropriate ...   \n",
       "\n",
       "   average_playtime_forever_minute  average_playtime_two_weeks_minute  \\\n",
       "0                                0                                  0   \n",
       "1                                0                                  0   \n",
       "2                                0                                  0   \n",
       "3                                0                                  0   \n",
       "4                                0                                  0   \n",
       "\n",
       "   median_playtime_forever_minute  median_playtime_two_weeks_minute  \\\n",
       "0                               0                                 0   \n",
       "1                               0                                 0   \n",
       "2                               0                                 0   \n",
       "3                               0                                 0   \n",
       "4                               0                                 0   \n",
       "\n",
       "              developers             publishers  \\\n",
       "0  Perpetual FX Creative  Perpetual FX Creative   \n",
       "1           Rusty Moyher           Wild Rooster   \n",
       "2          Campião Games          Campião Games   \n",
       "3      Odd Critter Games      Odd Critter Games   \n",
       "4          Unusual Games          Unusual Games   \n",
       "\n",
       "                                          categories  \\\n",
       "0  Single-player,Multi-player,Steam Achievements,...   \n",
       "1  Single-player,Steam Achievements,Full controll...   \n",
       "2                                      Single-player   \n",
       "3              Single-player,Full controller support   \n",
       "4                   Single-player,Steam Achievements   \n",
       "\n",
       "                            genres  \\\n",
       "0              Casual,Indie,Sports   \n",
       "1                     Action,Indie   \n",
       "2  Action,Adventure,Indie,Strategy   \n",
       "3           Adventure,Casual,Indie   \n",
       "4                  Adventure,Indie   \n",
       "\n",
       "                                                tags  \\\n",
       "0                        Indie,Casual,Sports,Bowling   \n",
       "1  Indie,Action,Pixel Graphics,2D,Retro,Arcade,Sc...   \n",
       "2                                               None   \n",
       "3  2D Platformer,Atmospheric,Surreal,Mystery,Puzz...   \n",
       "4  Indie,Adventure,Nudity,Violent,Sexual Content,...   \n",
       "\n",
       "                                         screenshots  \\\n",
       "0  https://cdn.akamai.steamstatic.com/steam/apps/...   \n",
       "1  https://cdn.akamai.steamstatic.com/steam/apps/...   \n",
       "2  https://cdn.akamai.steamstatic.com/steam/apps/...   \n",
       "3  https://cdn.akamai.steamstatic.com/steam/apps/...   \n",
       "4  https://cdn.akamai.steamstatic.com/steam/apps/...   \n",
       "\n",
       "                                              movies  \n",
       "0  http://cdn.akamai.steamstatic.com/steam/apps/2...  \n",
       "1  http://cdn.akamai.steamstatic.com/steam/apps/2...  \n",
       "2  http://cdn.akamai.steamstatic.com/steam/apps/2...  \n",
       "3  http://cdn.akamai.steamstatic.com/steam/apps/2...  \n",
       "4  http://cdn.akamai.steamstatic.com/steam/apps/2...  "
      ]
     },
     "execution_count": 21,
     "metadata": {},
     "output_type": "execute_result"
    }
   ],
   "source": [
    "pd.set_option('display.max_columns', None)\n",
    "raw_games_dataframe.head()"
   ]
  },
  {
   "cell_type": "markdown",
   "metadata": {},
   "source": [
    "In order to perform the estimation of the prediction model and with this information, we need to choose which columns to take to create the database table model:\n",
    "\n",
    "Columns to load:\n",
    "\n",
    "- **id**\n",
    "- **name**\n",
    "- **release_date**\n",
    "- **estimated_owners**\n",
    "- **peak_ccu**\n",
    "- **required_age**\n",
    "- **price**\n",
    "- **downloable_content_count**\n",
    "- **supported_languages**\n",
    "- **full_audio_languages**\n",
    "- **reviews**\n",
    "- **website**\n",
    "- **support_url**\n",
    "- **support_email**\n",
    "- **windows**\n",
    "- **mac**\n",
    "- **linux**\n",
    "- **metacritic_score**\n",
    "- **metacritic_url**\n",
    "- **user_score**\n",
    "- **positive**\n",
    "- **negative**\n",
    "- **score_rank**\n",
    "- **achievements**\n",
    "- **recomendations**\n",
    "- **average_playtime_forever**\n",
    "- **average_playtime_two_weeks**\n",
    "- **median_playtime_forever_weeks**\n",
    "- **median_playtime_two_ weeks**\n",
    "- **developers**\n",
    "- **publishers**\n",
    "- **categories**\n",
    "- **genres**\n",
    "- **tags**\n",
    "\n",
    "Columns not to load:\n",
    "\n",
    "- **about_the_game**: Its records have information about the game in written form, so it is not in our interest to draw metrics for all descriptions.\n",
    "- **header_image**: Its records have header image urls, so it is not information of interest to the scope.\n",
    "- **Notes**: Its records have extra information about the game content in written form, so it is not within our scope. \n",
    "- **screenshots**: Its records have game screenshot urls; as they are image formats, they will not be treated within our scope.\n",
    "- **movies**: Its records have game movie urls; therefore, it will not be treated within our scope.\n",
    "\n",
    "We will mark the columns that will be deleted because they will not be loaded to the **raw_games** table:"
   ]
  },
  {
   "cell_type": "code",
   "execution_count": 22,
   "metadata": {},
   "outputs": [],
   "source": [
    "columns_to_delete += ['about_the_game', 'header_image', 'notes', 'screenshots', 'movies']"
   ]
  },
  {
   "cell_type": "markdown",
   "metadata": {},
   "source": [
    "Let's create the **raw_games** model table.\n",
    "\n",
    "The model structure is:\n",
    "\n",
    "- **id** <- Integer, PK\n",
    "- **name** <- Varchar (200), default (None)\n",
    "- **release_date** <- Varchar (12), default (None)\n",
    "- **estimated_owners** <- Varchar (30), default (None)\n",
    "- **peak_ccu** <- Varchar (20), default (None)\n",
    "- **required_age** <- Varchar (3), default (None)\n",
    "- **price** <- Varchar (20), default (None)\n",
    "- **downloable_content_count** <- Varchar (20), default (None)\n",
    "- **supported_languages** <- Varchar (1500), default (None)\n",
    "- **full_audio_languages** <- Varchar (1500), default (None)\n",
    "- **reviews** <- Varchar (4000), default (None)\n",
    "- **website** <- Varchar (500), default (None)\n",
    "- **support_url** <- Varchar (500), default (None)\n",
    "- **support_email** <- Varchar (500), default (None)\n",
    "- **windows** <- Varchar (20), default (None)\n",
    "- **mac** <- Varchar (20), default (None)\n",
    "- **linux** <- Varchar (20), default (None)\n",
    "- **metacritic_score** <- Varchar (20), default (None)\n",
    "- **metacritic_url** <- Varchar (20), default (None)\n",
    "- **user_score** <- Varchar (20), default (None)\n",
    "- **positive** <- Varchar (20), default (None)\n",
    "- **negative** <- Varchar (20), default (None)\n",
    "- **score_rank** <- Varchar (20), default (None)\n",
    "- **achievements** <- Varchar (20), default (None)\n",
    "- **recommendations** <- Varchar (20), default (None)\n",
    "- **average_playtime_forever_minute** <- Varchar (20), default (None)\n",
    "- **average_playtime_two_weeks_minute** <- Varchar (20), default (None)\n",
    "- **median_playtime_forever_minute** <- Varchar (20), default (None)\n",
    "- **median_playtime_two_weeks_minute** <- Varchar (20), default (None)\n",
    "- **developers** <- Varchar (800), default (None)\n",
    "- **publishers** <- Varchar (800), default (None)\n",
    "- **categories** <- Varchar (500), default (None)\n",
    "- **genres** <- Varchar (500), default (None)\n",
    "- **tags** <- Varchar (500), default (None)"
   ]
  },
  {
   "cell_type": "markdown",
   "metadata": {},
   "source": [
    "Let's delete the columns marked:"
   ]
  },
  {
   "cell_type": "code",
   "execution_count": 23,
   "metadata": {},
   "outputs": [],
   "source": [
    "raw_games_dataframe.drop(columns_to_delete, axis=1, inplace=True)"
   ]
  },
  {
   "cell_type": "markdown",
   "metadata": {},
   "source": [
    "### Let's load the data to PostgreSQL\n",
    "\n",
    "Create connection:"
   ]
  },
  {
   "cell_type": "code",
   "execution_count": 24,
   "metadata": {},
   "outputs": [],
   "source": [
    "connection = connect_database.ConnectionPostgres()\n",
    "connection.make_tables()"
   ]
  },
  {
   "cell_type": "markdown",
   "metadata": {},
   "source": [
    "Load data to SQL:"
   ]
  },
  {
   "cell_type": "code",
   "execution_count": 25,
   "metadata": {},
   "outputs": [],
   "source": [
    "raw_games_dataframe.to_sql(raw_table_database, connection.engine, if_exists='replace', index=False)\n",
    "connection.log('Data loaded to {}: {} rows - {} columns.' .format(connection.connection_config['database'], raw_games_dataframe.shape[0], raw_games_dataframe.shape[1]))\n",
    "\n",
    "connection.close_connection()"
   ]
  },
  {
   "cell_type": "markdown",
   "metadata": {},
   "source": [
    "---\n",
    "### Evidence\n",
    "\n",
    "- Database created:\n",
    "\n",
    "    ![Database created](https://gist.github.com/dventep/fc64df11bc7aeb08ce9c231152970221/raw/05ada9adc7ea107697b7ae87389c051550228ba5/database_created.png)\n",
    "\n",
    "- Records loaded in **raw_games** table:\n",
    "\n",
    "    ![Records loaded](https://gist.github.com/dventep/fc64df11bc7aeb08ce9c231152970221/raw/05ada9adc7ea107697b7ae87389c051550228ba5/records_loaded_in_table.png)"
   ]
  }
 ],
 "metadata": {
  "kernelspec": {
   "display_name": "Python 3 (ipykernel)",
   "language": "python",
   "name": "python3"
  },
  "language_info": {
   "codemirror_mode": {
    "name": "ipython",
    "version": 3
   },
   "file_extension": ".py",
   "mimetype": "text/x-python",
   "name": "python",
   "nbconvert_exporter": "python",
   "pygments_lexer": "ipython3",
   "version": "3.10.3"
  }
 },
 "nbformat": 4,
 "nbformat_minor": 2
}
