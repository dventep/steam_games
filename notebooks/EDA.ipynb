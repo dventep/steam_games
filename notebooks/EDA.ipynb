{
 "cells": [
  {
   "cell_type": "code",
   "execution_count": 1,
   "metadata": {},
   "outputs": [
    {
     "name": "stdout",
     "output_type": "stream",
     "text": [
      "Requirement already satisfied: pandas in e:\\uao no sincronizada\\5° semestre\\etl\\proyecto\\steam-games-dataset\\venv\\lib\\site-packages (2.2.0)\n",
      "Requirement already satisfied: numpy<2,>=1.22.4 in e:\\uao no sincronizada\\5° semestre\\etl\\proyecto\\steam-games-dataset\\venv\\lib\\site-packages (from pandas) (1.26.4)\n",
      "Requirement already satisfied: pytz>=2020.1 in e:\\uao no sincronizada\\5° semestre\\etl\\proyecto\\steam-games-dataset\\venv\\lib\\site-packages (from pandas) (2024.1)\n",
      "Requirement already satisfied: tzdata>=2022.7 in e:\\uao no sincronizada\\5° semestre\\etl\\proyecto\\steam-games-dataset\\venv\\lib\\site-packages (from pandas) (2024.1)\n",
      "Requirement already satisfied: python-dateutil>=2.8.2 in e:\\uao no sincronizada\\5° semestre\\etl\\proyecto\\steam-games-dataset\\venv\\lib\\site-packages (from pandas) (2.8.2)\n",
      "Requirement already satisfied: six>=1.5 in e:\\uao no sincronizada\\5° semestre\\etl\\proyecto\\steam-games-dataset\\venv\\lib\\site-packages (from python-dateutil>=2.8.2->pandas) (1.16.0)\n",
      "Note: you may need to restart the kernel to use updated packages.\n"
     ]
    },
    {
     "name": "stderr",
     "output_type": "stream",
     "text": [
      "WARNING: You are using pip version 22.0.4; however, version 24.0 is available.\n",
      "You should consider upgrading via the 'e:\\UAO No Sincronizada\\5° Semestre\\ETL\\Proyecto\\steam-games-dataset\\venv\\Scripts\\python.exe -m pip install --upgrade pip' command.\n"
     ]
    }
   ],
   "source": [
    "pip install pandas"
   ]
  },
  {
   "cell_type": "code",
   "execution_count": 2,
   "metadata": {},
   "outputs": [
    {
     "name": "stderr",
     "output_type": "stream",
     "text": [
      "C:\\Users\\david\\AppData\\Local\\Temp\\ipykernel_19296\\4080736814.py:1: DeprecationWarning: \n",
      "Pyarrow will become a required dependency of pandas in the next major release of pandas (pandas 3.0),\n",
      "(to allow more performant data types, such as the Arrow string type, and better interoperability with other libraries)\n",
      "but was not found to be installed on your system.\n",
      "If this would cause problems for you,\n",
      "please provide us feedback at https://github.com/pandas-dev/pandas/issues/54466\n",
      "        \n",
      "  import pandas as pd\n"
     ]
    }
   ],
   "source": [
    "import pandas as pd"
   ]
  },
  {
   "cell_type": "markdown",
   "metadata": {},
   "source": [
    "Check the data"
   ]
  },
  {
   "cell_type": "code",
   "execution_count": 3,
   "metadata": {},
   "outputs": [],
   "source": [
    "df = pd.read_csv('games.csv')"
   ]
  },
  {
   "cell_type": "code",
   "execution_count": 4,
   "metadata": {},
   "outputs": [
    {
     "name": "stdout",
     "output_type": "stream",
     "text": [
      "<class 'pandas.core.frame.DataFrame'>\n",
      "RangeIndex: 85103 entries, 0 to 85102\n",
      "Data columns (total 39 columns):\n",
      " #   Column                      Non-Null Count  Dtype  \n",
      "---  ------                      --------------  -----  \n",
      " 0   AppID                       85103 non-null  int64  \n",
      " 1   Name                        85097 non-null  object \n",
      " 2   Release date                85103 non-null  object \n",
      " 3   Estimated owners            85103 non-null  object \n",
      " 4   Peak CCU                    85103 non-null  int64  \n",
      " 5   Required age                85103 non-null  int64  \n",
      " 6   Price                       85103 non-null  float64\n",
      " 7   DLC count                   85103 non-null  int64  \n",
      " 8   About the game              81536 non-null  object \n",
      " 9   Supported languages         85103 non-null  object \n",
      " 10  Full audio languages        85103 non-null  object \n",
      " 11  Reviews                     9743 non-null   object \n",
      " 12  Header image                85103 non-null  object \n",
      " 13  Website                     39452 non-null  object \n",
      " 14  Support url                 41586 non-null  object \n",
      " 15  Support email               71507 non-null  object \n",
      " 16  Windows                     85103 non-null  bool   \n",
      " 17  Mac                         85103 non-null  bool   \n",
      " 18  Linux                       85103 non-null  bool   \n",
      " 19  Metacritic score            85103 non-null  int64  \n",
      " 20  Metacritic url              3912 non-null   object \n",
      " 21  User score                  85103 non-null  int64  \n",
      " 22  Positive                    85103 non-null  int64  \n",
      " 23  Negative                    85103 non-null  int64  \n",
      " 24  Score rank                  44 non-null     float64\n",
      " 25  Achievements                85103 non-null  int64  \n",
      " 26  Recommendations             85103 non-null  int64  \n",
      " 27  Notes                       13021 non-null  object \n",
      " 28  Average playtime forever    85103 non-null  int64  \n",
      " 29  Average playtime two weeks  85103 non-null  int64  \n",
      " 30  Median playtime forever     85103 non-null  int64  \n",
      " 31  Median playtime two weeks   85103 non-null  int64  \n",
      " 32  Developers                  81516 non-null  object \n",
      " 33  Publishers                  81236 non-null  object \n",
      " 34  Categories                  80505 non-null  object \n",
      " 35  Genres                      81548 non-null  object \n",
      " 36  Tags                        64003 non-null  object \n",
      " 37  Screenshots                 83097 non-null  object \n",
      " 38  Movies                      78650 non-null  object \n",
      "dtypes: bool(3), float64(2), int64(14), object(20)\n",
      "memory usage: 23.6+ MB\n"
     ]
    }
   ],
   "source": [
    "df.info()"
   ]
  },
  {
   "cell_type": "markdown",
   "metadata": {},
   "source": [
    "Check the size"
   ]
  },
  {
   "cell_type": "code",
   "execution_count": 5,
   "metadata": {},
   "outputs": [
    {
     "data": {
      "text/plain": [
       "(85103, 39)"
      ]
     },
     "execution_count": 5,
     "metadata": {},
     "output_type": "execute_result"
    }
   ],
   "source": [
    "df.shape"
   ]
  },
  {
   "cell_type": "markdown",
   "metadata": {},
   "source": [
    "Let's transform the dataset to parquet"
   ]
  },
  {
   "cell_type": "code",
   "execution_count": 6,
   "metadata": {},
   "outputs": [
    {
     "name": "stdout",
     "output_type": "stream",
     "text": [
      "<class 'pandas.core.frame.DataFrame'>\n",
      "RangeIndex: 85103 entries, 0 to 85102\n",
      "Data columns (total 39 columns):\n",
      " #   Column                      Non-Null Count  Dtype  \n",
      "---  ------                      --------------  -----  \n",
      " 0   AppID                       85103 non-null  int64  \n",
      " 1   Name                        85097 non-null  object \n",
      " 2   Release date                85103 non-null  object \n",
      " 3   Estimated owners            85103 non-null  object \n",
      " 4   Peak CCU                    85103 non-null  int64  \n",
      " 5   Required age                85103 non-null  int64  \n",
      " 6   Price                       85103 non-null  float64\n",
      " 7   DLC count                   85103 non-null  int64  \n",
      " 8   About the game              81536 non-null  object \n",
      " 9   Supported languages         85103 non-null  object \n",
      " 10  Full audio languages        85103 non-null  object \n",
      " 11  Reviews                     9743 non-null   object \n",
      " 12  Header image                85103 non-null  object \n",
      " 13  Website                     39452 non-null  object \n",
      " 14  Support url                 41586 non-null  object \n",
      " 15  Support email               71507 non-null  object \n",
      " 16  Windows                     85103 non-null  bool   \n",
      " 17  Mac                         85103 non-null  bool   \n",
      " 18  Linux                       85103 non-null  bool   \n",
      " 19  Metacritic score            85103 non-null  int64  \n",
      " 20  Metacritic url              3912 non-null   object \n",
      " 21  User score                  85103 non-null  int64  \n",
      " 22  Positive                    85103 non-null  int64  \n",
      " 23  Negative                    85103 non-null  int64  \n",
      " 24  Score rank                  44 non-null     float64\n",
      " 25  Achievements                85103 non-null  int64  \n",
      " 26  Recommendations             85103 non-null  int64  \n",
      " 27  Notes                       13021 non-null  object \n",
      " 28  Average playtime forever    85103 non-null  int64  \n",
      " 29  Average playtime two weeks  85103 non-null  int64  \n",
      " 30  Median playtime forever     85103 non-null  int64  \n",
      " 31  Median playtime two weeks   85103 non-null  int64  \n",
      " 32  Developers                  81516 non-null  object \n",
      " 33  Publishers                  81236 non-null  object \n",
      " 34  Categories                  80505 non-null  object \n",
      " 35  Genres                      81548 non-null  object \n",
      " 36  Tags                        64003 non-null  object \n",
      " 37  Screenshots                 83097 non-null  object \n",
      " 38  Movies                      78650 non-null  object \n",
      "dtypes: bool(3), float64(2), int64(14), object(20)\n",
      "memory usage: 23.6+ MB\n"
     ]
    }
   ],
   "source": [
    "df.info()"
   ]
  },
  {
   "cell_type": "code",
   "execution_count": 7,
   "metadata": {},
   "outputs": [
    {
     "data": {
      "text/plain": [
       "Reviews\n",
       "“The most ambitious in the modern trilogy” 9/10 – IGN “A must-play” 4.5/5 – Hardcore Gamer “One of Lara Croft’s best modern adventures” 84/100 – PC Gamer                                                                                                                                                                                                                                                                                                                                                                                                                                                                                                                                                                                                                                                                                                                                                                                                                                                                                                                                                                                                                                                                                                                                                                                                                                                                                                                                                                                                                                                                                                                                                                                                                                                                                                                                                                                                                                                                                                                                                                           20\n",
       "“I am a professor of Archaeology at the University of Florence specialised in Topography of Ancient Rome. I have followed the development of Rome Reborn VR since its inception in the 1990s. Now that the first VR applications of the project are starting to appear in online stores, I am delighted to express my strong support for this unique initiative which combines archaeological accuracy with state-of-the-art technology. The goal is to make the core monuments of the Eternal City easily comprehensible even to non-experts, and to bring ancient Rome into the homes and schools of people wherever they may be. In my opinion, the Rome Reborn VR team has brilliantly achieved this goal. --Prof. Paolo Liverani” 5/5 – Dipartimento di Storia, Archeologia, Geografia, Arte e Spettacolo, University of Florence (Italy) “As Director of the Civic Museum of Rieti, about 80 km north of Rome, on Saturday, May 26, 2018 I organized, at the museum, two public demonstrations of the Rome Reborn VR application presenting the Roman Forum. Over 100 people of all ages attended both demonstrations. I can report that the response was enthusiastically positive. The event showed that Rome Reborn VR has the potential to make the study of history come alive for students and the general public. Rome Reborn VR is a great tool for the museum world and for anyone around the world who wants to learn more about ancient Rome by going back in time to visit the city as it appeared at the peak of its development in AD 320. --Dr. Monica De Simone” 5/5 – Civic Museum of Rieti (Italy) “This is an *amazing* pedagogical tool with lots of applications in secondary and higher education. As a professor of Classics, I consider Roman Reborn VR an indispensable tool for courses on Roman civilization, Roman history, Roman archaeology, even Latin literature. While this app has a lot to offer to faculty and students, it will also appeal to non-academics who are interested in ancient Rome. --Prof. Zoe Stamatopoulou” 5/5 – Department of Classics, Washington University (USA)     6\n",
       "– Read more on PC Gamer – Read more on Rock Paper Shotgun                                                                                                                                                                                                                                                                                                                                                                                                                                                                                                                                                                                                                                                                                                                                                                                                                                                                                                                                                                                                                                                                                                                                                                                                                                                                                                                                                                                                                                                                                                                                                                                                                                                                                                                                                                                                                                                                                                                                                                                                                                                                            6\n",
       "8 – 向日葵游戏                                                                                                                                                                                                                                                                                                                                                                                                                                                                                                                                                                                                                                                                                                                                                                                                                                                                                                                                                                                                                                                                                                                                                                                                                                                                                                                                                                                                                                                                                                                                                                                                                                                                                                                                                                                                                                                                                                                                                                                                                                                                                                                            4\n",
       "“Did you want to play Resident Evil 2 Remake with a fixed camera? Then try Fear the Dark Unknown.” 8/10 – Navigames “The survival horror of the 90s are alive in Fear the Dark Unknown.” 7.5/10 – GameIt “A convincing mix between Resident Evil and Alone in the Dark. An old school feeling.” 4/5 – N-Gamz                                                                                                                                                                                                                                                                                                                                                                                                                                                                                                                                                                                                                                                                                                                                                                                                                                                                                                                                                                                                                                                                                                                                                                                                                                                                                                                                                                                                                                                                                                                                                                                                                                                                                                                                                                                                                         3\n",
       "                                                                                                                                                                                                                                                                                                                                                                                                                                                                                                                                                                                                                                                                                                                                                                                                                                                                                                                                                                                                                                                                                                                                                                                                                                                                                                                                                                                                                                                                                                                                                                                                                                                                                                                                                                                                                                                                                                                                                                                                                                                                                                                                    ..\n",
       "“If you were afraid that the idea of a fighter that's controlled with just two buttons was a joke that would get old quickly, then you clearly haven't played much Divekick!.” 9 / 10 – Destructoid “Simply put, Divekick is a fighting game that you can — and should! — play even if you're not usually good at fighting games.” A- – Gaming Age “It has captured everything we love about fighting games in a mere two buttons. Simply put, it’s genius. This is no joke.” 8 / 10 – Cheat Code Central                                                                                                                                                                                                                                                                                                                                                                                                                                                                                                                                                                                                                                                                                                                                                                                                                                                                                                                                                                                                                                                                                                                                                                                                                                                                                                                                                                                                                                                                                                                                                                                                                            1\n",
       "“Goblin Quest is an interesting combination of dungeon crawler and tower defense where you are actually the object being defended against, and it works quite well.” TouchMyApps                                                                                                                                                                                                                                                                                                                                                                                                                                                                                                                                                                                                                                                                                                                                                                                                                                                                                                                                                                                                                                                                                                                                                                                                                                                                                                                                                                                                                                                                                                                                                                                                                                                                                                                                                                                                                                                                                                                                                     1\n",
       "“Played every coin-op in the annals of arcade history? Whip! Whip! offers something new but delightfully retro, mixing mechanics of Bubble Bobble and Bionic Commando.” 79/100 – Tech-Gaming                                                                                                                                                                                                                                                                                                                                                                                                                                                                                                                                                                                                                                                                                                                                                                                                                                                                                                                                                                                                                                                                                                                                                                                                                                                                                                                                                                                                                                                                                                                                                                                                                                                                                                                                                                                                                                                                                                                                         1\n",
       "“Extraordinary experience for Dragon Ball fans.” 4/5 – NEO Magazine “[…]nice graphics and high entertainment value.” 84/100 – Spieletipps                                                                                                                                                                                                                                                                                                                                                                                                                                                                                                                                                                                                                                                                                                                                                                                                                                                                                                                                                                                                                                                                                                                                                                                                                                                                                                                                                                                                                                                                                                                                                                                                                                                                                                                                                                                                                                                                                                                                                                                            1\n",
       "“It may not be realistic, but it makes for some hard-fought contests to rule the rails across America.” 7.6/10 – GameSpot “Rails Across America is great for certain people that like railroads a whole lot” 7.5/10 – IGN                                                                                                                                                                                                                                                                                                                                                                                                                                                                                                                                                                                                                                                                                                                                                                                                                                                                                                                                                                                                                                                                                                                                                                                                                                                                                                                                                                                                                                                                                                                                                                                                                                                                                                                                                                                                                                                                                                            1\n",
       "Name: count, Length: 9646, dtype: int64"
      ]
     },
     "execution_count": 7,
     "metadata": {},
     "output_type": "execute_result"
    }
   ],
   "source": [
    "df['Reviews'].value_counts()"
   ]
  },
  {
   "cell_type": "code",
   "execution_count": 8,
   "metadata": {},
   "outputs": [
    {
     "data": {
      "text/plain": [
       "Name                          Counter-Strike: Global Offensive\n",
       "Release date                                      Aug 21, 2012\n",
       "Estimated owners                          50000000 - 100000000\n",
       "Peak CCU                                                825215\n",
       "Price                                                      0.0\n",
       "Score rank                                                 NaN\n",
       "Average playtime forever                                 30484\n",
       "Average playtime two weeks                                 777\n",
       "Median playtime forever                                   6357\n",
       "Median playtime two weeks                                  253\n",
       "Developers                     Valve,Hidden Path Entertainment\n",
       "Publishers                                               Valve\n",
       "Name: 46158, dtype: object"
      ]
     },
     "execution_count": 8,
     "metadata": {},
     "output_type": "execute_result"
    }
   ],
   "source": [
    "(df[df['Positive'] == df['Positive'].max()]).iloc[0, [1,2,3,4,6,24,28,29,30,31,32,33]]"
   ]
  },
  {
   "cell_type": "code",
   "execution_count": 9,
   "metadata": {},
   "outputs": [
    {
     "data": {
      "text/plain": [
       "Name                          PUBG: BATTLEGROUNDS\n",
       "Price                                         0.0\n",
       "Positive                                  1154655\n",
       "User score                                      0\n",
       "Negative                                   895978\n",
       "Score rank                                    NaN\n",
       "Average playtime forever                    21963\n",
       "Average playtime two weeks                    790\n",
       "Median playtime forever                      7134\n",
       "Median playtime two weeks                     152\n",
       "Developers                          KRAFTON, Inc.\n",
       "Reviews                                       NaN\n",
       "Name: 8885, dtype: object"
      ]
     },
     "execution_count": 9,
     "metadata": {},
     "output_type": "execute_result"
    }
   ],
   "source": [
    "(df[df['Name'] == \"PUBG: BATTLEGROUNDS\"]).iloc[0, [1,6,22,21,23,24,28,29,30,31,32,11]]"
   ]
  },
  {
   "cell_type": "code",
   "execution_count": 10,
   "metadata": {},
   "outputs": [
    {
     "data": {
      "text/html": [
       "<div>\n",
       "<style scoped>\n",
       "    .dataframe tbody tr th:only-of-type {\n",
       "        vertical-align: middle;\n",
       "    }\n",
       "\n",
       "    .dataframe tbody tr th {\n",
       "        vertical-align: top;\n",
       "    }\n",
       "\n",
       "    .dataframe thead th {\n",
       "        text-align: right;\n",
       "    }\n",
       "</style>\n",
       "<table border=\"1\" class=\"dataframe\">\n",
       "  <thead>\n",
       "    <tr style=\"text-align: right;\">\n",
       "      <th></th>\n",
       "      <th>Name</th>\n",
       "      <th>Price</th>\n",
       "      <th>User score</th>\n",
       "      <th>Positive</th>\n",
       "      <th>Negative</th>\n",
       "      <th>Score rank</th>\n",
       "      <th>Average playtime forever</th>\n",
       "      <th>Average playtime two weeks</th>\n",
       "      <th>Median playtime forever</th>\n",
       "      <th>Median playtime two weeks</th>\n",
       "      <th>Developers</th>\n",
       "      <th>Reviews</th>\n",
       "    </tr>\n",
       "  </thead>\n",
       "  <tbody>\n",
       "    <tr>\n",
       "      <th>35001</th>\n",
       "      <td>Rust</td>\n",
       "      <td>39.99</td>\n",
       "      <td>0</td>\n",
       "      <td>703687</td>\n",
       "      <td>108223</td>\n",
       "      <td>NaN</td>\n",
       "      <td>16623</td>\n",
       "      <td>1437</td>\n",
       "      <td>3035</td>\n",
       "      <td>710</td>\n",
       "      <td>Facepunch Studios</td>\n",
       "      <td>“Rust is one of the cruelest games on Steam, a...</td>\n",
       "    </tr>\n",
       "  </tbody>\n",
       "</table>\n",
       "</div>"
      ],
      "text/plain": [
       "       Name  Price  User score  Positive  Negative  Score rank  \\\n",
       "35001  Rust  39.99           0    703687    108223         NaN   \n",
       "\n",
       "       Average playtime forever  Average playtime two weeks  \\\n",
       "35001                     16623                        1437   \n",
       "\n",
       "       Median playtime forever  Median playtime two weeks         Developers  \\\n",
       "35001                     3035                        710  Facepunch Studios   \n",
       "\n",
       "                                                 Reviews  \n",
       "35001  “Rust is one of the cruelest games on Steam, a...  "
      ]
     },
     "execution_count": 10,
     "metadata": {},
     "output_type": "execute_result"
    }
   ],
   "source": [
    "# (df[df['Name'].str.contains('Rust', na=False, case=False)]).iloc[:, [1,6,22,23,24,28,29,30,31]]\n",
    "(df[df['Name'] == 'Rust']).iloc[:, [1,6,21,22,23,24,28,29,30,31,32,11]]"
   ]
  },
  {
   "cell_type": "code",
   "execution_count": 11,
   "metadata": {},
   "outputs": [],
   "source": [
    "df['Categories']  = df['Categories'].astype(str)\n",
    "all_categories = \",\".join(df['Categories'])"
   ]
  },
  {
   "cell_type": "code",
   "execution_count": 12,
   "metadata": {},
   "outputs": [
    {
     "data": {
      "text/plain": [
       "{'Captions available',\n",
       " 'Co-op',\n",
       " 'Commentary available',\n",
       " 'Cross-Platform Multiplayer',\n",
       " 'Full controller support',\n",
       " 'HDR available',\n",
       " 'In-App Purchases',\n",
       " 'Includes Source SDK',\n",
       " 'Includes level editor',\n",
       " 'LAN Co-op',\n",
       " 'LAN PvP',\n",
       " 'MMO',\n",
       " 'Mods',\n",
       " 'Mods (require HL2)',\n",
       " 'Multi-player',\n",
       " 'Online Co-op',\n",
       " 'Online PvP',\n",
       " 'Partial Controller Support',\n",
       " 'PvP',\n",
       " 'Remote Play Together',\n",
       " 'Remote Play on Phone',\n",
       " 'Remote Play on TV',\n",
       " 'Remote Play on Tablet',\n",
       " 'Shared/Split Screen',\n",
       " 'Shared/Split Screen Co-op',\n",
       " 'Shared/Split Screen PvP',\n",
       " 'Single-player',\n",
       " 'Stats',\n",
       " 'Steam Achievements',\n",
       " 'Steam Cloud',\n",
       " 'Steam Leaderboards',\n",
       " 'Steam Trading Cards',\n",
       " 'Steam Turn Notifications',\n",
       " 'Steam Workshop',\n",
       " 'SteamVR Collectibles',\n",
       " 'Tracked Controller Support',\n",
       " 'Tracked Motion Controller Support',\n",
       " 'VR Only',\n",
       " 'VR Support',\n",
       " 'VR Supported',\n",
       " 'Valve Anti-Cheat enabled',\n",
       " 'nan'}"
      ]
     },
     "execution_count": 12,
     "metadata": {},
     "output_type": "execute_result"
    }
   ],
   "source": [
    "unique_categories = set(all_categories.split(','))\n",
    "unique_categories"
   ]
  },
  {
   "cell_type": "code",
   "execution_count": 13,
   "metadata": {},
   "outputs": [
    {
     "name": "stdout",
     "output_type": "stream",
     "text": [
      "<class 'pandas.core.frame.DataFrame'>\n",
      "RangeIndex: 85103 entries, 0 to 85102\n",
      "Data columns (total 39 columns):\n",
      " #   Column                      Non-Null Count  Dtype  \n",
      "---  ------                      --------------  -----  \n",
      " 0   AppID                       85103 non-null  int64  \n",
      " 1   Name                        85097 non-null  object \n",
      " 2   Release date                85103 non-null  object \n",
      " 3   Estimated owners            85103 non-null  object \n",
      " 4   Peak CCU                    85103 non-null  int64  \n",
      " 5   Required age                85103 non-null  int64  \n",
      " 6   Price                       85103 non-null  float64\n",
      " 7   DLC count                   85103 non-null  int64  \n",
      " 8   About the game              81536 non-null  object \n",
      " 9   Supported languages         85103 non-null  object \n",
      " 10  Full audio languages        85103 non-null  object \n",
      " 11  Reviews                     9743 non-null   object \n",
      " 12  Header image                85103 non-null  object \n",
      " 13  Website                     39452 non-null  object \n",
      " 14  Support url                 41586 non-null  object \n",
      " 15  Support email               71507 non-null  object \n",
      " 16  Windows                     85103 non-null  bool   \n",
      " 17  Mac                         85103 non-null  bool   \n",
      " 18  Linux                       85103 non-null  bool   \n",
      " 19  Metacritic score            85103 non-null  int64  \n",
      " 20  Metacritic url              3912 non-null   object \n",
      " 21  User score                  85103 non-null  int64  \n",
      " 22  Positive                    85103 non-null  int64  \n",
      " 23  Negative                    85103 non-null  int64  \n",
      " 24  Score rank                  44 non-null     float64\n",
      " 25  Achievements                85103 non-null  int64  \n",
      " 26  Recommendations             85103 non-null  int64  \n",
      " 27  Notes                       13021 non-null  object \n",
      " 28  Average playtime forever    85103 non-null  int64  \n",
      " 29  Average playtime two weeks  85103 non-null  int64  \n",
      " 30  Median playtime forever     85103 non-null  int64  \n",
      " 31  Median playtime two weeks   85103 non-null  int64  \n",
      " 32  Developers                  81516 non-null  object \n",
      " 33  Publishers                  81236 non-null  object \n",
      " 34  Categories                  85103 non-null  object \n",
      " 35  Genres                      81548 non-null  object \n",
      " 36  Tags                        64003 non-null  object \n",
      " 37  Screenshots                 83097 non-null  object \n",
      " 38  Movies                      78650 non-null  object \n",
      "dtypes: bool(3), float64(2), int64(14), object(20)\n",
      "memory usage: 23.6+ MB\n"
     ]
    }
   ],
   "source": [
    "df.info()"
   ]
  },
  {
   "cell_type": "code",
   "execution_count": 14,
   "metadata": {},
   "outputs": [],
   "source": [
    "# Filtrar los juegos que admiten inglés y al menos otro idioma\n",
    "english_and_other_languages = df[df['Supported languages'].str.contains('English') & \n",
    "                                 (df['Supported languages'].str.len() > len(\"['English']\"))]\n",
    "\n",
    "# Contar el número de juegos que cumplen con el criterio\n",
    "num_games = len(english_and_other_languages)"
   ]
  },
  {
   "cell_type": "code",
   "execution_count": 15,
   "metadata": {},
   "outputs": [
    {
     "data": {
      "text/plain": [
       "Supported languages\n",
       "['English', 'Russian']                                                                                                                                                                                                                                                                                     2440\n",
       "['English', 'Simplified Chinese']                                                                                                                                                                                                                                                                          1608\n",
       "['English', 'Japanese']                                                                                                                                                                                                                                                                                    1380\n",
       "['English', 'German']                                                                                                                                                                                                                                                                                       763\n",
       "['English', 'French']                                                                                                                                                                                                                                                                                       707\n",
       "                                                                                                                                                                                                                                                                                                           ... \n",
       "['English', 'French', 'German', 'Spanish - Spain', 'Czech', 'Hungarian', 'Korean']                                                                                                                                                                                                                            1\n",
       "['English', 'Korean', 'Simplified Chinese', 'Traditional Chinese', 'Spanish - Spain', 'Portuguese - Brazil', 'Russian']                                                                                                                                                                                       1\n",
       "['English', 'French', 'Italian', 'German', 'Spanish - Spain', 'Traditional Chinese', 'Korean', 'Hungarian', 'Japanese', 'Portuguese']                                                                                                                                                                         1\n",
       "['English', 'French', 'Italian', 'German', 'Spanish - Spain', 'Czech', 'Danish', 'Dutch', 'Finnish', 'Greek', 'Hungarian', 'Japanese', 'Korean', 'Norwegian', 'Polish', 'Portuguese - Brazil', 'Russian', 'Simplified Chinese', 'Spanish - Latin America', 'Swedish', 'Traditional Chinese', 'Turkish']       1\n",
       "['English', 'Slovak']                                                                                                                                                                                                                                                                                         1\n",
       "Name: count, Length: 11245, dtype: int64"
      ]
     },
     "execution_count": 15,
     "metadata": {},
     "output_type": "execute_result"
    }
   ],
   "source": [
    "english_and_other_languages['Supported languages'].value_counts()"
   ]
  },
  {
   "cell_type": "code",
   "execution_count": 16,
   "metadata": {},
   "outputs": [
    {
     "data": {
      "text/plain": [
       "Genres\n",
       "Casual,Indie                                                                   4811\n",
       "Action,Indie                                                                   4421\n",
       "Action,Adventure,Indie                                                         3643\n",
       "Adventure,Indie                                                                3110\n",
       "Adventure,Casual,Indie                                                         2561\n",
       "                                                                               ... \n",
       "Action,Adventure,Massively Multiplayer,Racing                                     1\n",
       "Violent,Action,Adventure,Indie,Strategy,Early Access                              1\n",
       "Adventure,Free to Play,Massively Multiplayer,RPG,Simulation,Sports,Strategy       1\n",
       "Audio Production,Software Training,Utilities,Web Publishing                       1\n",
       "Action,Casual,Indie,Simulation,Free to Play                                       1\n",
       "Name: count, Length: 2471, dtype: int64"
      ]
     },
     "execution_count": 16,
     "metadata": {},
     "output_type": "execute_result"
    }
   ],
   "source": [
    "df['Genres'].value_counts()"
   ]
  },
  {
   "cell_type": "code",
   "execution_count": 17,
   "metadata": {},
   "outputs": [
    {
     "name": "stdout",
     "output_type": "stream",
     "text": [
      "478\n"
     ]
    }
   ],
   "source": [
    "# Filtrar los juegos que admiten inglés y al menos otro idioma\n",
    "df_2 = df[ df['Genres'].str.contains('Violent') & (df['Required age'] == 0 ) ]\n",
    "\n",
    "# Contar el número de juegos que cumplen con el criterio\n",
    "print(len(df_2))"
   ]
  }
 ],
 "metadata": {
  "kernelspec": {
   "display_name": "Python 3",
   "language": "python",
   "name": "python3"
  },
  "language_info": {
   "codemirror_mode": {
    "name": "ipython",
    "version": 3
   },
   "file_extension": ".py",
   "mimetype": "text/x-python",
   "name": "python",
   "nbconvert_exporter": "python",
   "pygments_lexer": "ipython3",
   "version": "3.10.3"
  }
 },
 "nbformat": 4,
 "nbformat_minor": 2
}
