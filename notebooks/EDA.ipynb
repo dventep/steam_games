{
 "cells": [
  {
   "cell_type": "code",
   "execution_count": 6,
   "metadata": {},
   "outputs": [],
   "source": [
    "import pandas as pd"
   ]
  },
  {
   "cell_type": "markdown",
   "metadata": {},
   "source": [
    "Check the data"
   ]
  },
  {
   "cell_type": "code",
   "execution_count": 10,
   "metadata": {},
   "outputs": [
    {
     "name": "stdout",
     "output_type": "stream",
     "text": [
      "<class 'pandas.core.frame.DataFrame'>\n",
      "RangeIndex: 83560 entries, 0 to 83559\n",
      "Data columns (total 39 columns):\n",
      " #   Column                      Non-Null Count  Dtype  \n",
      "---  ------                      --------------  -----  \n",
      " 0   AppID                       83560 non-null  int64  \n",
      " 1   Name                        83554 non-null  object \n",
      " 2   Release date                83560 non-null  object \n",
      " 3   Estimated owners            83560 non-null  object \n",
      " 4   Peak CCU                    83560 non-null  int64  \n",
      " 5   Required age                83560 non-null  int64  \n",
      " 6   Price                       83560 non-null  float64\n",
      " 7   DLC count                   83560 non-null  int64  \n",
      " 8   About the game              80123 non-null  object \n",
      " 9   Supported languages         83560 non-null  object \n",
      " 10  Full audio languages        83560 non-null  object \n",
      " 11  Reviews                     9716 non-null   object \n",
      " 12  Header image                83560 non-null  object \n",
      " 13  Website                     39054 non-null  object \n",
      " 14  Support url                 41016 non-null  object \n",
      " 15  Support email               70241 non-null  object \n",
      " 16  Windows                     83560 non-null  bool   \n",
      " 17  Mac                         83560 non-null  bool   \n",
      " 18  Linux                       83560 non-null  bool   \n",
      " 19  Metacritic score            83560 non-null  int64  \n",
      " 20  Metacritic url              3910 non-null   object \n",
      " 21  User score                  83560 non-null  int64  \n",
      " 22  Positive                    83560 non-null  int64  \n",
      " 23  Negative                    83560 non-null  int64  \n",
      " 24  Score rank                  44 non-null     float64\n",
      " 25  Achievements                83560 non-null  int64  \n",
      " 26  Recommendations             83560 non-null  int64  \n",
      " 27  Notes                       12715 non-null  object \n",
      " 28  Average playtime forever    83560 non-null  int64  \n",
      " 29  Average playtime two weeks  83560 non-null  int64  \n",
      " 30  Median playtime forever     83560 non-null  int64  \n",
      " 31  Median playtime two weeks   83560 non-null  int64  \n",
      " 32  Developers                  80103 non-null  object \n",
      " 33  Publishers                  79855 non-null  object \n",
      " 34  Categories                  79104 non-null  object \n",
      " 35  Genres                      80135 non-null  object \n",
      " 36  Tags                        63574 non-null  object \n",
      " 37  Screenshots                 81634 non-null  object \n",
      " 38  Movies                      77260 non-null  object \n",
      "dtypes: bool(3), float64(2), int64(14), object(20)\n",
      "memory usage: 23.2+ MB\n"
     ]
    }
   ],
   "source": [
    "df.info()"
   ]
  },
  {
   "cell_type": "code",
   "execution_count": 8,
   "metadata": {},
   "outputs": [
    {
     "data": {
      "text/plain": [
       "Name                          Counter-Strike: Global Offensive\n",
       "Release date                                      Aug 21, 2012\n",
       "Estimated owners                          50000000 - 100000000\n",
       "Peak CCU                                                825215\n",
       "Price                                                      0.0\n",
       "Score rank                                                 NaN\n",
       "Average playtime forever                                 30484\n",
       "Average playtime two weeks                                 777\n",
       "Median playtime forever                                   6357\n",
       "Median playtime two weeks                                  253\n",
       "Developers                     Valve,Hidden Path Entertainment\n",
       "Publishers                                               Valve\n",
       "Name: 46158, dtype: object"
      ]
     },
     "execution_count": 8,
     "metadata": {},
     "output_type": "execute_result"
    }
   ],
   "source": [
    "(df[df['Positive'] == df['Positive'].max()]).iloc[0, [1,2,3,4,6,24,28,29,30,31,32,33]]"
   ]
  },
  {
   "cell_type": "code",
   "execution_count": 13,
   "metadata": {},
   "outputs": [
    {
     "data": {
      "text/plain": [
       "Name                          Counter-Strike: Global Offensive\n",
       "Release date                                      Aug 21, 2012\n",
       "Estimated owners                          50000000 - 100000000\n",
       "Peak CCU                                                825215\n",
       "Price                                                      0.0\n",
       "Score rank                                                 NaN\n",
       "Average playtime forever                                 30484\n",
       "Average playtime two weeks                                 777\n",
       "Median playtime forever                                   6357\n",
       "Median playtime two weeks                                  253\n",
       "Developers                     Valve,Hidden Path Entertainment\n",
       "Publishers                                               Valve\n",
       "Name: 46158, dtype: object"
      ]
     },
     "execution_count": 13,
     "metadata": {},
     "output_type": "execute_result"
    }
   ],
   "source": [
    "(df[df['Positive'] == df['Positive'].max()]).iloc[0, [1,2,3,4,6,24,28,29,30,31,32,33]]"
   ]
  },
  {
   "cell_type": "code",
   "execution_count": 9,
   "metadata": {},
   "outputs": [
    {
     "data": {
      "text/plain": [
       "Name                          PUBG: BATTLEGROUNDS\n",
       "Price                                         0.0\n",
       "Positive                                  1154655\n",
       "User score                                      0\n",
       "Negative                                   895978\n",
       "Score rank                                    NaN\n",
       "Average playtime forever                    21963\n",
       "Average playtime two weeks                    790\n",
       "Median playtime forever                      7134\n",
       "Median playtime two weeks                     152\n",
       "Developers                          KRAFTON, Inc.\n",
       "Reviews                                       NaN\n",
       "Name: 8885, dtype: object"
      ]
     },
     "execution_count": 9,
     "metadata": {},
     "output_type": "execute_result"
    }
   ],
   "source": [
    "(df[df['Name'] == \"PUBG: BATTLEGROUNDS\"]).iloc[0, [1,6,22,21,23,24,28,29,30,31,32,11]]"
   ]
  },
  {
   "cell_type": "code",
   "execution_count": 10,
   "metadata": {},
   "outputs": [
    {
     "data": {
      "text/html": [
       "<div>\n",
       "<style scoped>\n",
       "    .dataframe tbody tr th:only-of-type {\n",
       "        vertical-align: middle;\n",
       "    }\n",
       "\n",
       "    .dataframe tbody tr th {\n",
       "        vertical-align: top;\n",
       "    }\n",
       "\n",
       "    .dataframe thead th {\n",
       "        text-align: right;\n",
       "    }\n",
       "</style>\n",
       "<table border=\"1\" class=\"dataframe\">\n",
       "  <thead>\n",
       "    <tr style=\"text-align: right;\">\n",
       "      <th></th>\n",
       "      <th>Name</th>\n",
       "      <th>Price</th>\n",
       "      <th>User score</th>\n",
       "      <th>Positive</th>\n",
       "      <th>Negative</th>\n",
       "      <th>Score rank</th>\n",
       "      <th>Average playtime forever</th>\n",
       "      <th>Average playtime two weeks</th>\n",
       "      <th>Median playtime forever</th>\n",
       "      <th>Median playtime two weeks</th>\n",
       "      <th>Developers</th>\n",
       "      <th>Reviews</th>\n",
       "    </tr>\n",
       "  </thead>\n",
       "  <tbody>\n",
       "    <tr>\n",
       "      <th>35001</th>\n",
       "      <td>Rust</td>\n",
       "      <td>39.99</td>\n",
       "      <td>0</td>\n",
       "      <td>703687</td>\n",
       "      <td>108223</td>\n",
       "      <td>NaN</td>\n",
       "      <td>16623</td>\n",
       "      <td>1437</td>\n",
       "      <td>3035</td>\n",
       "      <td>710</td>\n",
       "      <td>Facepunch Studios</td>\n",
       "      <td>“Rust is one of the cruelest games on Steam, a...</td>\n",
       "    </tr>\n",
       "  </tbody>\n",
       "</table>\n",
       "</div>"
      ],
      "text/plain": [
       "       Name  Price  User score  Positive  Negative  Score rank  \\\n",
       "35001  Rust  39.99           0    703687    108223         NaN   \n",
       "\n",
       "       Average playtime forever  Average playtime two weeks  \\\n",
       "35001                     16623                        1437   \n",
       "\n",
       "       Median playtime forever  Median playtime two weeks         Developers  \\\n",
       "35001                     3035                        710  Facepunch Studios   \n",
       "\n",
       "                                                 Reviews  \n",
       "35001  “Rust is one of the cruelest games on Steam, a...  "
      ]
     },
     "execution_count": 10,
     "metadata": {},
     "output_type": "execute_result"
    }
   ],
   "source": [
    "# (df[df['Name'].str.contains('Rust', na=False, case=False)]).iloc[:, [1,6,22,23,24,28,29,30,31]]\n",
    "(df[df['Name'] == 'Rust']).iloc[:, [1,6,21,22,23,24,28,29,30,31,32,11]]"
   ]
  },
  {
   "cell_type": "code",
   "execution_count": 11,
   "metadata": {},
   "outputs": [],
   "source": [
    "df['Categories']  = df['Categories'].astype(str)\n",
    "all_categories = \",\".join(df['Categories'])"
   ]
  },
  {
   "cell_type": "code",
   "execution_count": 12,
   "metadata": {},
   "outputs": [
    {
     "data": {
      "text/plain": [
       "{'Captions available',\n",
       " 'Co-op',\n",
       " 'Commentary available',\n",
       " 'Cross-Platform Multiplayer',\n",
       " 'Full controller support',\n",
       " 'HDR available',\n",
       " 'In-App Purchases',\n",
       " 'Includes Source SDK',\n",
       " 'Includes level editor',\n",
       " 'LAN Co-op',\n",
       " 'LAN PvP',\n",
       " 'MMO',\n",
       " 'Mods',\n",
       " 'Mods (require HL2)',\n",
       " 'Multi-player',\n",
       " 'Online Co-op',\n",
       " 'Online PvP',\n",
       " 'Partial Controller Support',\n",
       " 'PvP',\n",
       " 'Remote Play Together',\n",
       " 'Remote Play on Phone',\n",
       " 'Remote Play on TV',\n",
       " 'Remote Play on Tablet',\n",
       " 'Shared/Split Screen',\n",
       " 'Shared/Split Screen Co-op',\n",
       " 'Shared/Split Screen PvP',\n",
       " 'Single-player',\n",
       " 'Stats',\n",
       " 'Steam Achievements',\n",
       " 'Steam Cloud',\n",
       " 'Steam Leaderboards',\n",
       " 'Steam Trading Cards',\n",
       " 'Steam Turn Notifications',\n",
       " 'Steam Workshop',\n",
       " 'SteamVR Collectibles',\n",
       " 'Tracked Controller Support',\n",
       " 'Tracked Motion Controller Support',\n",
       " 'VR Only',\n",
       " 'VR Support',\n",
       " 'VR Supported',\n",
       " 'Valve Anti-Cheat enabled',\n",
       " 'nan'}"
      ]
     },
     "execution_count": 12,
     "metadata": {},
     "output_type": "execute_result"
    }
   ],
   "source": [
    "unique_categories = set(all_categories.split(','))\n",
    "unique_categories"
   ]
  },
  {
   "cell_type": "code",
   "execution_count": 13,
   "metadata": {},
   "outputs": [
    {
     "name": "stdout",
     "output_type": "stream",
     "text": [
      "<class 'pandas.core.frame.DataFrame'>\n",
      "RangeIndex: 85103 entries, 0 to 85102\n",
      "Data columns (total 39 columns):\n",
      " #   Column                      Non-Null Count  Dtype  \n",
      "---  ------                      --------------  -----  \n",
      " 0   AppID                       85103 non-null  int64  \n",
      " 1   Name                        85097 non-null  object \n",
      " 2   Release date                85103 non-null  object \n",
      " 3   Estimated owners            85103 non-null  object \n",
      " 4   Peak CCU                    85103 non-null  int64  \n",
      " 5   Required age                85103 non-null  int64  \n",
      " 6   Price                       85103 non-null  float64\n",
      " 7   DLC count                   85103 non-null  int64  \n",
      " 8   About the game              81536 non-null  object \n",
      " 9   Supported languages         85103 non-null  object \n",
      " 10  Full audio languages        85103 non-null  object \n",
      " 11  Reviews                     9743 non-null   object \n",
      " 12  Header image                85103 non-null  object \n",
      " 13  Website                     39452 non-null  object \n",
      " 14  Support url                 41586 non-null  object \n",
      " 15  Support email               71507 non-null  object \n",
      " 16  Windows                     85103 non-null  bool   \n",
      " 17  Mac                         85103 non-null  bool   \n",
      " 18  Linux                       85103 non-null  bool   \n",
      " 19  Metacritic score            85103 non-null  int64  \n",
      " 20  Metacritic url              3912 non-null   object \n",
      " 21  User score                  85103 non-null  int64  \n",
      " 22  Positive                    85103 non-null  int64  \n",
      " 23  Negative                    85103 non-null  int64  \n",
      " 24  Score rank                  44 non-null     float64\n",
      " 25  Achievements                85103 non-null  int64  \n",
      " 26  Recommendations             85103 non-null  int64  \n",
      " 27  Notes                       13021 non-null  object \n",
      " 28  Average playtime forever    85103 non-null  int64  \n",
      " 29  Average playtime two weeks  85103 non-null  int64  \n",
      " 30  Median playtime forever     85103 non-null  int64  \n",
      " 31  Median playtime two weeks   85103 non-null  int64  \n",
      " 32  Developers                  81516 non-null  object \n",
      " 33  Publishers                  81236 non-null  object \n",
      " 34  Categories                  85103 non-null  object \n",
      " 35  Genres                      81548 non-null  object \n",
      " 36  Tags                        64003 non-null  object \n",
      " 37  Screenshots                 83097 non-null  object \n",
      " 38  Movies                      78650 non-null  object \n",
      "dtypes: bool(3), float64(2), int64(14), object(20)\n",
      "memory usage: 23.6+ MB\n"
     ]
    }
   ],
   "source": [
    "df.info()"
   ]
  },
  {
   "cell_type": "code",
   "execution_count": 14,
   "metadata": {},
   "outputs": [],
   "source": [
    "# Filtrar los juegos que admiten inglés y al menos otro idioma\n",
    "english_and_other_languages = df[df['Supported languages'].str.contains('English') & \n",
    "                                 (df['Supported languages'].str.len() > len(\"['English']\"))]\n",
    "\n",
    "# Contar el número de juegos que cumplen con el criterio\n",
    "num_games = len(english_and_other_languages)"
   ]
  },
  {
   "cell_type": "code",
   "execution_count": 15,
   "metadata": {},
   "outputs": [
    {
     "data": {
      "text/plain": [
       "Supported languages\n",
       "['English', 'Russian']                                                                                                                                                                                                                                                                                     2440\n",
       "['English', 'Simplified Chinese']                                                                                                                                                                                                                                                                          1608\n",
       "['English', 'Japanese']                                                                                                                                                                                                                                                                                    1380\n",
       "['English', 'German']                                                                                                                                                                                                                                                                                       763\n",
       "['English', 'French']                                                                                                                                                                                                                                                                                       707\n",
       "                                                                                                                                                                                                                                                                                                           ... \n",
       "['English', 'French', 'German', 'Spanish - Spain', 'Czech', 'Hungarian', 'Korean']                                                                                                                                                                                                                            1\n",
       "['English', 'Korean', 'Simplified Chinese', 'Traditional Chinese', 'Spanish - Spain', 'Portuguese - Brazil', 'Russian']                                                                                                                                                                                       1\n",
       "['English', 'French', 'Italian', 'German', 'Spanish - Spain', 'Traditional Chinese', 'Korean', 'Hungarian', 'Japanese', 'Portuguese']                                                                                                                                                                         1\n",
       "['English', 'French', 'Italian', 'German', 'Spanish - Spain', 'Czech', 'Danish', 'Dutch', 'Finnish', 'Greek', 'Hungarian', 'Japanese', 'Korean', 'Norwegian', 'Polish', 'Portuguese - Brazil', 'Russian', 'Simplified Chinese', 'Spanish - Latin America', 'Swedish', 'Traditional Chinese', 'Turkish']       1\n",
       "['English', 'Slovak']                                                                                                                                                                                                                                                                                         1\n",
       "Name: count, Length: 11245, dtype: int64"
      ]
     },
     "execution_count": 15,
     "metadata": {},
     "output_type": "execute_result"
    }
   ],
   "source": [
    "english_and_other_languages['Supported languages'].value_counts()"
   ]
  },
  {
   "cell_type": "code",
   "execution_count": 16,
   "metadata": {},
   "outputs": [
    {
     "data": {
      "text/plain": [
       "Genres\n",
       "Casual,Indie                                                                   4811\n",
       "Action,Indie                                                                   4421\n",
       "Action,Adventure,Indie                                                         3643\n",
       "Adventure,Indie                                                                3110\n",
       "Adventure,Casual,Indie                                                         2561\n",
       "                                                                               ... \n",
       "Action,Adventure,Massively Multiplayer,Racing                                     1\n",
       "Violent,Action,Adventure,Indie,Strategy,Early Access                              1\n",
       "Adventure,Free to Play,Massively Multiplayer,RPG,Simulation,Sports,Strategy       1\n",
       "Audio Production,Software Training,Utilities,Web Publishing                       1\n",
       "Action,Casual,Indie,Simulation,Free to Play                                       1\n",
       "Name: count, Length: 2471, dtype: int64"
      ]
     },
     "execution_count": 16,
     "metadata": {},
     "output_type": "execute_result"
    }
   ],
   "source": [
    "df['Genres'].value_counts()"
   ]
  },
  {
   "cell_type": "code",
   "execution_count": 17,
   "metadata": {},
   "outputs": [
    {
     "name": "stdout",
     "output_type": "stream",
     "text": [
      "478\n"
     ]
    }
   ],
   "source": [
    "# Filtrar los juegos que admiten inglés y al menos otro idioma\n",
    "df_2 = df[ df['Genres'].str.contains('Violent') & (df['Required age'] == 0 ) ]\n",
    "\n",
    "# Contar el número de juegos que cumplen con el criterio\n",
    "print(len(df_2))"
   ]
  }
 ],
 "metadata": {
  "kernelspec": {
   "display_name": "Python 3",
   "language": "python",
   "name": "python3"
  },
  "language_info": {
   "codemirror_mode": {
    "name": "ipython",
    "version": 3
   },
   "file_extension": ".py",
   "mimetype": "text/x-python",
   "name": "python",
   "nbconvert_exporter": "python",
   "pygments_lexer": "ipython3",
   "version": "3.10.3"
  }
 },
 "nbformat": 4,
 "nbformat_minor": 2
}
